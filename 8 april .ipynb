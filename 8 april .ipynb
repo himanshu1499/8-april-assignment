{
 "cells": [
  {
   "cell_type": "code",
   "execution_count": 5,
   "id": "04c85741-e902-4a9c-9c90-1d071a8517cd",
   "metadata": {},
   "outputs": [],
   "source": [
    "#q2"
   ]
  },
  {
   "cell_type": "code",
   "execution_count": null,
   "id": "6de26cc5-73a0-4739-b6cb-fa3b37e78c9a",
   "metadata": {},
   "outputs": [],
   "source": [
    "In the case of predicting the actual price of a house, Mean Squared Error (MSE) would be more appropriate as the evaluation metric. \n",
    "This is because MSE measures the average squared difference between the predicted and actual values, which directly reflects how far off the predicted values are from the true values. \n",
    "In other words, the goal is to minimize the distance between the predicted and actual values, which is precisely what MSE does. \n",
    "\n",
    "On the other hand, R-squared measures the proportion of variance in the dependent variable that is explained by the independent variables, which is useful for understanding how well the model fits the data. \n",
    "However, it may not be the best metric for evaluating the accuracy of predictions in this specific case."
   ]
  },
  {
   "cell_type": "code",
   "execution_count": null,
   "id": "3fc04be2-7f09-4d31-a689-a2d12bb6991b",
   "metadata": {},
   "outputs": [],
   "source": [
    "#q3"
   ]
  },
  {
   "cell_type": "code",
   "execution_count": null,
   "id": "18d4030c-c1ff-40aa-a929-8f0fcc15b1d7",
   "metadata": {},
   "outputs": [],
   "source": [
    "In a dataset with a significant number of outliers, Mean Absolute Error (MAE) would be a more appropriate regression metric to use with an SVM model than Mean Squared Error (MSE). \n",
    "This is because MSE heavily penalizes large errors, which can be amplified by outliers and may not be representative of the overall performance of the model.\n",
    "On the other hand, MAE is less sensitive to outliers as it calculates the absolute difference between the predicted and actual values, rather than the squared difference.\n",
    "Therefore, MAE provides a better measure of the average error in the predictions, which can be useful in scenarios where outliers are present."
   ]
  },
  {
   "cell_type": "code",
   "execution_count": null,
   "id": "3858630a-c1e9-4eea-9a2b-2a39c8261fdf",
   "metadata": {},
   "outputs": [],
   "source": [
    "#q4"
   ]
  },
  {
   "cell_type": "code",
   "execution_count": null,
   "id": "e70dc2e5-a889-4f0f-b682-092dce9c4f3b",
   "metadata": {},
   "outputs": [],
   "source": [
    "If both Mean Squared Error (MSE) and Root Mean Squared Error (RMSE) are very close, either of the two metrics can be chosen to evaluate the performance of the SVM regression model using a polynomial kernel. \n",
    "\n",
    "MSE is the average of the squared differences between predicted and actual values, while RMSE is the square root of the average of the squared differences between predicted and actual values.\n",
    "RMSE is more interpretable than MSE because it is expressed in the same units as the target variable, and is therefore more intuitive.\n",
    "However, RMSE is also more sensitive to large errors than MSE since it involves taking the square root of the squared errors. \n",
    "\n",
    "Therefore, the choice of MSE or RMSE as the evaluation metric in this scenario would depend on the specific requirements of the problem and personal preference."
   ]
  },
  {
   "cell_type": "code",
   "execution_count": null,
   "id": "e34b7a95-8bbc-44d5-a38f-eb12125957b5",
   "metadata": {},
   "outputs": [],
   "source": [
    "#q5"
   ]
  },
  {
   "cell_type": "code",
   "execution_count": null,
   "id": "c3d2e804-8861-41ee-85dc-caad60be979e",
   "metadata": {},
   "outputs": [],
   "source": [
    "If the goal is to measure how well the SVM regression model explains the variance in the target variable, then R-squared (R2) would be the most appropriate evaluation metric to use.\n",
    "R2 is a statistical measure that represents the proportion of the variance in the dependent variable (i.e., target variable) that is explained by the independent variables (i.e., features). \n",
    "\n",
    "In SVM regression, R2 can be calculated as follows:\n",
    "\n",
    "R2 = 1 - (SS_res / SS_tot)\n",
    "\n",
    "where SS_res is the sum of squared residuals (i.e., difference between actual and predicted values), and SS_tot is the total sum of squares (i.e., difference between actual and mean values). \n",
    "\n",
    "R2 ranges between 0 and 1, with a higher value indicating a better fit of the model to the data. \n",
    "Therefore, R2 can be used to compare the performance of SVM regression models using different kernels (linear, polynomial, and RBF) in terms of how well they explain the variance in the target variable."
   ]
  },
  {
   "cell_type": "code",
   "execution_count": null,
   "id": "65091ee4-c9c2-4d77-8b20-44cd910d8b23",
   "metadata": {},
   "outputs": [],
   "source": [
    "# in q1 dataset not upload in notebook and i an unable to develop model due not availability of dataset.\n",
    "it shows entity is too large when i try to upload in notebook,\n",
    "give me some suggestion how can i upload this dataset for model training."
   ]
  }
 ],
 "metadata": {
  "kernelspec": {
   "display_name": "Python 3 (ipykernel)",
   "language": "python",
   "name": "python3"
  },
  "language_info": {
   "codemirror_mode": {
    "name": "ipython",
    "version": 3
   },
   "file_extension": ".py",
   "mimetype": "text/x-python",
   "name": "python",
   "nbconvert_exporter": "python",
   "pygments_lexer": "ipython3",
   "version": "3.10.6"
  }
 },
 "nbformat": 4,
 "nbformat_minor": 5
}
